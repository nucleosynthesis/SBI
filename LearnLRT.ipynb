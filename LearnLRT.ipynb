{
 "cells": [
  {
   "cell_type": "code",
   "execution_count": 1,
   "id": "45ddf3b8",
   "metadata": {},
   "outputs": [],
   "source": [
    "import torch\n",
    "from torch.autograd import Variable\n",
    "import torch.nn.functional as F\n",
    "import torch.utils.data as Data"
   ]
  },
  {
   "cell_type": "code",
   "execution_count": 2,
   "id": "d0ef9105",
   "metadata": {},
   "outputs": [],
   "source": [
    "import numpy,random\n",
    "from scipy.stats import norm\n",
    "\n",
    "import matplotlib.pyplot as plt\n",
    "plt.rcParams.update({'font.size': 14})\n",
    "\n",
    "\n",
    "# null hypothesis is a single source - Gaussian \n",
    "mu_H0 = 0\n",
    "sigma_H0 = 1\n",
    "\n",
    "# alt hypothesis is 2 sources  - 2 Gaussians \n",
    "dmu =  1.01\n",
    "def mu_1_H1():\n",
    "  return mu_H0+dmu\n",
    "def mu_2_H1():\n",
    "  return mu_H0-dmu\n"
   ]
  },
  {
   "cell_type": "code",
   "execution_count": 3,
   "id": "215fd158",
   "metadata": {},
   "outputs": [],
   "source": [
    "n_events = 100000\n",
    "\n",
    "def mc_1G(n_events):\n",
    "    x=norm.rvs(mu_H0,sigma_H0,size=n_events)\n",
    "    return x\n",
    "\n",
    "def mc_2G(n_events):\n",
    "    mu_1_H1 = mu_H0+dmu\n",
    "    mu_2_H1 = mu_H0-dmu\n",
    "    #x1=norm.rvs(mu_1_H1,sigma_H0,size=int(n_events/2))\n",
    "    #x2=norm.rvs(mu_2_H1,sigma_H0,size=int(n_events/2))\n",
    "    # randomly choose between each of the two gaussians \n",
    "    xs = []\n",
    "    for i in range(n_events):\n",
    "        r = numpy.random.uniform(0,1)\n",
    "        if  r > 0.5: xs.append(norm.rvs(mu_2_H1,sigma_H0,size=int(1))[0])\n",
    "        else: xs.append(norm.rvs(mu_1_H1,sigma_H0,size=int(1))[0])\n",
    "    \n",
    "    return numpy.array(xs)"
   ]
  },
  {
   "cell_type": "code",
   "execution_count": 4,
   "id": "90f92c40",
   "metadata": {},
   "outputs": [],
   "source": [
    "net = torch.nn.Sequential(\n",
    "        torch.nn.Linear(1, 100),\n",
    "        torch.nn.LeakyReLU(),\n",
    "        #torch.nn.Dropout(p=0.8),\n",
    "        torch.nn.Linear(100, 20),\n",
    "        torch.nn.LeakyReLU(),\n",
    "        torch.nn.Linear(20, 1),\n",
    "        torch.nn.Sigmoid()\n",
    "    )\n",
    "\n",
    "net.to(torch.double)\n",
    "optimizer = torch.optim.Adam(net.parameters(), lr=0.01,weight_decay=0.0001)\n",
    "loss_func = torch.nn.BCELoss() "
   ]
  },
  {
   "cell_type": "code",
   "execution_count": 5,
   "id": "40575257",
   "metadata": {},
   "outputs": [],
   "source": [
    "# make some data, should be from H0 and H1 \n",
    "xH0 = mc_1G(n_events)\n",
    "xH1 = mc_2G(n_events)\n",
    "fH0 = [0 for xx in xH0]\n",
    "fH1 = [1 for xx in xH1]\n",
    "\n",
    "xH0 = torch.reshape(torch.from_numpy(numpy.array(xH0)).type(torch.double),(n_events,1))\n",
    "xH1 = torch.reshape(torch.from_numpy(numpy.array(xH1)).type(torch.double),(n_events,1))\n",
    "\n",
    "x = torch.from_numpy(numpy.concatenate([xH0,xH1])).type(torch.double)\n",
    "f = torch.from_numpy(numpy.concatenate([fH0,fH1])).type(torch.double)\n",
    "\n",
    "x = torch.reshape(x,(n_events*2,1))\n",
    "f = torch.reshape(f,(n_events*2,1))\n"
   ]
  },
  {
   "cell_type": "code",
   "execution_count": 6,
   "id": "f1da9f5b",
   "metadata": {},
   "outputs": [],
   "source": [
    "MAXSTEPS=100\n",
    "step = 0\n",
    "\n",
    "losses = []\n",
    "#while MSE>0.1: #for t in range(n_epochs):\n",
    "while step < MAXSTEPS:\n",
    "\n",
    "    step+=1\n",
    "\n",
    "    prediction = net(x)     # input x and predict based on x\n",
    "    \n",
    "    loss  = loss_func(prediction, f)     # must be (1. nn output, 2. target)\n",
    "    optimizer.zero_grad()   # clear gradients for next train\n",
    "    loss.backward()         # backpropagation, compute gradients\n",
    "    optimizer.step()        # apply gradients\n",
    "    losses.append(loss)"
   ]
  },
  {
   "cell_type": "code",
   "execution_count": 7,
   "id": "d68fbf0b",
   "metadata": {},
   "outputs": [],
   "source": [
    "\n",
    "#plt.plot(range(0,len(losses)),losses)"
   ]
  },
  {
   "cell_type": "code",
   "execution_count": 8,
   "id": "60c63e5d",
   "metadata": {},
   "outputs": [],
   "source": [
    "#print(x[0:10],net(x)[0:10])"
   ]
  },
  {
   "cell_type": "code",
   "execution_count": 9,
   "id": "41d1cfaf",
   "metadata": {},
   "outputs": [
    {
     "data": {
      "image/png": "[encoded data removed]",
      "text/plain": [
       "<Figure size 432x288 with 1 Axes>"
      ]
     },
     "metadata": {
      "needs_background": "light"
     },
     "output_type": "display_data"
    }
   ],
   "source": [
    "yH0 = net(xH0).detach().numpy()\n",
    "yH1 = net(xH1).detach().numpy()\n",
    "\n",
    "xH0_n = mc_1G(n_events)\n",
    "xH1_n = mc_2G(n_events)\n",
    "\n",
    "xH0_n = torch.reshape(torch.from_numpy(numpy.array(xH0_n)).type(torch.double),(n_events,1))\n",
    "xH1_n = torch.reshape(torch.from_numpy(numpy.array(xH1_n)).type(torch.double),(n_events,1))\n",
    "\n",
    "\n",
    "yH0_n = net(xH0_n).detach().numpy()\n",
    "yH1_n = net(xH1_n).detach().numpy()\n",
    "\n",
    "plt.hist(yH0,histtype='step',label=\"$H_{0}$\",bins=numpy.arange(0.25,1,0.05))\n",
    "plt.hist(yH1,histtype='step',label=\"$H_{1}$\",bins=numpy.arange(0.25,1,0.05))\n",
    "plt.hist(yH0_n,histtype='step',label=\"$H_{0}$ - test\",bins=numpy.arange(0.25,1,0.05))\n",
    "plt.hist(yH1_n,histtype='step',label=\"$H_{1}$ - test\",bins=numpy.arange(0.25,1,0.05))\n",
    "plt.xlabel(\"NN output\")\n",
    "plt.legend()\n",
    "plt.savefig(\"nndist.pdf\")"
   ]
  },
  {
   "cell_type": "code",
   "execution_count": 10,
   "id": "69617ab5",
   "metadata": {},
   "outputs": [],
   "source": [
    "def nlogLR(data):\n",
    "    LH0    = numpy.log(norm.pdf(data,mu_H0,sigma_H0))\n",
    "    LH1    = numpy.log(0.5*(norm.pdf(data,mu_1_H1(),sigma_H0)+norm.pdf(data,mu_2_H1(),sigma_H0)))\n",
    "    \n",
    "    Lambda = sum(LH1-LH0)\n",
    "    return -Lambda\n",
    "\n",
    "# Distribution under H0 \n",
    "n_samples = 5000\n",
    "n_events = 1 \n",
    "lHRH0 = []\n",
    "\n",
    "for i in range(n_samples):\n",
    " xH0 = mc_1G(n_events)\n",
    " lHRH0.append(nlogLR(xH0))\n",
    "\n",
    "lHRH1 = []\n",
    "for i in range(n_samples):\n",
    " xH1 = mc_2G(n_events)\n",
    " lHRH1.append(nlogLR(xH1))\n"
   ]
  },
  {
   "cell_type": "code",
   "execution_count": 11,
   "id": "892aebff",
   "metadata": {
    "scrolled": true
   },
   "outputs": [
    {
     "data": {
      "text/plain": [
       "Text(0, 0.5, '$f(\\\\Delta q)$')"
      ]
     },
     "execution_count": 11,
     "metadata": {},
     "output_type": "execute_result"
    },
    {
     "data": {
      "image/png": "[encoded data removed]",
      "text/plain": [
       "<Figure size 432x288 with 1 Axes>"
      ]
     },
     "metadata": {
      "needs_background": "light"
     },
     "output_type": "display_data"
    }
   ],
   "source": [
    "plt.hist(lHRH0,histtype='step',label=\"$H_{0}$\",density=True)\n",
    "plt.hist(lHRH1,histtype='step',label=\"$H_{1}$\",density=True)\n",
    "plt.xlabel(\"$\\Delta q = -\\ln(\\Lambda)$\")\n",
    "plt.ylabel(\"$f(\\Delta q)$\")"
   ]
  },
  {
   "cell_type": "code",
   "execution_count": 12,
   "id": "7692c1ae",
   "metadata": {},
   "outputs": [
    {
     "data": {
      "image/png": "[encoded data removed]",
      "text/plain": [
       "<Figure size 432x288 with 1 Axes>"
      ]
     },
     "metadata": {
      "needs_background": "light"
     },
     "output_type": "display_data"
    }
   ],
   "source": [
    "# make a plot of size vs power \n",
    "\n",
    "def size_and_power(tH0,tH1,which):\n",
    "    xr = numpy.linspace(min([min(tH0),min(tH1)]),max([max(tH0),max(tH1)]),100)\n",
    "    if which>0 : \n",
    "        ar = [len(list(filter(lambda k: k> xx,tH0)))/len(tH0) for xx in xr]\n",
    "        pr = [len(list(filter(lambda k: k> xx,tH1)))/len(tH1) for xx in xr]\n",
    "    else: \n",
    "        ar = [len(list(filter(lambda k: k< xx,tH0)))/len(tH0) for xx in xr]\n",
    "        pr = [len(list(filter(lambda k: k< xx,tH1)))/len(tH1) for xx in xr]\n",
    "    return (ar,pr)\n",
    "\n",
    "arLH,prLH = size_and_power(lHRH0,lHRH1,-1)\n",
    "arx,prx   = size_and_power(yH0,yH1,1)\n",
    "\n",
    "plt.plot(arLH,prLH,label=\"LHR test\")\n",
    "plt.plot(arx,prx,label=\"NN classifier\")\n",
    "#plt.plot(arx,prx,label=\"NN classifier\")\n",
    "plt.xlabel(\"$\\\\alpha$\")\n",
    "plt.ylabel(\"$1-\\\\beta$\")\n",
    "plt.legend()\n",
    "plt.savefig(\"classifier_vs_LHRT.pdf\")"
   ]
  },
  {
   "cell_type": "code",
   "execution_count": 13,
   "id": "a413d538",
   "metadata": {},
   "outputs": [],
   "source": [
    "# Re-weight events based on f(x)=net\n",
    "\n",
    "def weight(x):\n",
    "\n",
    "    #x = torch.reshape([x],(1,1))\n",
    "    x = torch.reshape(torch.from_numpy(numpy.array([x])).type(torch.double),(1,1))\n",
    "    f = net(x)\n",
    "    w = (f/(1-f))\n",
    "    return w.detach().numpy()[0][0]\n",
    "\n"
   ]
  },
  {
   "cell_type": "code",
   "execution_count": 14,
   "id": "452b4169",
   "metadata": {},
   "outputs": [
    {
     "name": "stdout",
     "output_type": "stream",
     "text": [
      "25000 25000\n"
     ]
    },
    {
     "data": {
      "text/plain": [
       "<matplotlib.legend.Legend at 0x7f8f06905f90>"
      ]
     },
     "execution_count": 14,
     "metadata": {},
     "output_type": "execute_result"
    },
    {
     "data": {
      "image/png": "[encoded data removed]",
      "text/plain": [
       "<Figure size 432x288 with 1 Axes>"
      ]
     },
     "metadata": {
      "needs_background": "light"
     },
     "output_type": "display_data"
    }
   ],
   "source": [
    "xH0 = mc_1G(5*n_samples)\n",
    "xH1 = mc_2G(5*n_samples)\n",
    "\n",
    "weights = []\n",
    "for a in xH0: weights.append((weight(a)))\n",
    "\n",
    "plt.hist(xH0,histtype='step',label=\"$H_{0}$\",density=True,bins=50)\n",
    "plt.hist(xH1,histtype='step',label=\"$H_{1}$\",density=True,bins=50)\n",
    "plt.hist(xH0,weights=weights,histtype='step',density=True,color='purple',bins=50,label=\"Weighted $H_{0}$\")\n",
    "\n",
    "print(len(xH0),len(xH1))\n",
    "plt.xlabel(\"$x$\")\n",
    "plt.ylabel(\"$f(x)$\")\n",
    "#plt.yscale('log')\n",
    "plt.legend()"
   ]
  },
  {
   "cell_type": "code",
   "execution_count": 15,
   "id": "dfec27b7",
   "metadata": {},
   "outputs": [],
   "source": [
    "@numpy.vectorize\n",
    "def weight_true(x):\n",
    "    n = 0.5*(norm.pdf(x,mu_1_H1(),sigma_H0)+norm.pdf(x,mu_2_H1(),sigma_H0))\n",
    "    d = norm.pdf(x,mu_H0,sigma_H0)\n",
    "    return n/d"
   ]
  },
  {
   "cell_type": "code",
   "execution_count": 16,
   "id": "0291e0c2",
   "metadata": {},
   "outputs": [
    {
     "data": {
      "text/plain": [
       "Text(0, 0.5, '$p(H_{1})/p(H_{0})$')"
      ]
     },
     "execution_count": 16,
     "metadata": {},
     "output_type": "execute_result"
    },
    {
     "data": {
      "image/png": "[encoded data removed]",
      "text/plain": [
       "<Figure size 432x288 with 1 Axes>"
      ]
     },
     "metadata": {
      "needs_background": "light"
     },
     "output_type": "display_data"
    }
   ],
   "source": [
    "xsp = numpy.arange(-5,5,0.1)\n",
    "plt.plot(xsp,weight_true(xsp))\n",
    "plt.plot(xsp,[weight(xs) for xs in xsp])\n",
    "plt.xlabel(\"x\")\n",
    "plt.ylabel(\"$p(H_{1})/p(H_{0})$\")"
   ]
  },
  {
   "cell_type": "code",
   "execution_count": 54,
   "id": "4b5d125c",
   "metadata": {},
   "outputs": [],
   "source": [
    "# next the idea is to parameterize the thing and see if we can't learn the profile ratio\n",
    "dmvals = [0,0.2,0.5,0.8,1,1.2,1.5,1.8,2,2.2,2.5,3]"
   ]
  },
  {
   "cell_type": "code",
   "execution_count": 55,
   "id": "b356825a",
   "metadata": {},
   "outputs": [],
   "source": [
    "import random\n",
    "\n",
    "def mc_1G_2(n_events):\n",
    "    x=norm.rvs(mu_H0,sigma_H0,size=n_events)\n",
    "    xnew = [[xx,random.choice(dmvals)] for xx in x]\n",
    "    return numpy.array(xnew)\n",
    "\n",
    "def mc_2G_2(n_events,dmu):\n",
    "    mu_1_H1 = mu_H0+dmu\n",
    "    mu_2_H1 = mu_H0-dmu\n",
    "    \n",
    "    xs = []\n",
    "    for i in range(n_events):\n",
    "        r = numpy.random.uniform(0,1)\n",
    "        if  r > 0.5: xs.append([norm.rvs(mu_2_H1,sigma_H0,size=int(1))[0],dmu])\n",
    "        else: xs.append([norm.rvs(mu_1_H1,sigma_H0,size=int(1))[0],dmu])\n",
    "    \n",
    "    return numpy.array(xs)"
   ]
  },
  {
   "cell_type": "code",
   "execution_count": 56,
   "id": "b483a779",
   "metadata": {},
   "outputs": [],
   "source": [
    "# step 1 is to pick several values of delta_mu, our training samples will be those ones \n",
    "n_events=1000\n",
    "\n",
    "# make some data, should be from H0 and H1 \n",
    "xH0 = mc_1G_2(len(dmvals)*n_events)\n",
    "xH1 = mc_2G_2(n_events,dmvals[0])\n",
    "for dm in dmvals[1:]:\n",
    "    res = mc_2G_2(n_events,dm)\n",
    "    xH1 = numpy.concatenate((xH1,res))\n",
    "\n",
    "fH0 = [0 for xx in xH0]\n",
    "fH1 = [1 for xx in xH1]\n",
    "\n",
    "\n",
    "#xH0 = torch.reshape(torch.from_numpy(numpy.array(xH0)).type(torch.double),(len(dmvals)*n_events,2))\n",
    "#xH1 = torch.reshape(torch.from_numpy(numpy.array(xH1)).type(torch.double),(len(dmvals)*n_events,2))\n",
    "\n",
    "x = torch.from_numpy(numpy.concatenate([xH0,xH1]))\n",
    "f = torch.from_numpy(numpy.concatenate([fH0,fH1]))\n",
    "\n",
    "\n",
    "x = torch.reshape(x,(len(dmvals)*n_events*2,2)).type(torch.double)\n",
    "f = torch.reshape(f,(len(dmvals)*n_events*2,1)).type(torch.double)"
   ]
  },
  {
   "cell_type": "code",
   "execution_count": 57,
   "id": "783e6e5f",
   "metadata": {},
   "outputs": [],
   "source": [
    "net2 = torch.nn.Sequential(\n",
    "        torch.nn.Linear(2, 500),\n",
    "        torch.nn.LeakyReLU(),\n",
    "        #torch.nn.Dropout(p=0.8),\n",
    "        torch.nn.Linear(500, 200),\n",
    "        torch.nn.LeakyReLU(),\n",
    "        torch.nn.Linear(200, 20),\n",
    "        torch.nn.LeakyReLU(),\n",
    "        torch.nn.Linear(20, 1),\n",
    "        torch.nn.Sigmoid()\n",
    "    )\n",
    "\n",
    "net2.to(torch.double)\n",
    "optimizer = torch.optim.Adam(net.parameters(), lr=0.01,weight_decay=0.0001)\n",
    "loss_func = torch.nn.BCELoss() "
   ]
  },
  {
   "cell_type": "code",
   "execution_count": null,
   "id": "d38bc0af",
   "metadata": {},
   "outputs": [
    {
     "name": "stdout",
     "output_type": "stream",
     "text": [
      "24000\n"
     ]
    }
   ],
   "source": [
    "MAXSTEPS=500\n",
    "step = 0\n",
    "\n",
    "losses = []\n",
    "#while MSE>0.1: #for t in range(n_epochs):\n",
    "print(len(net2(x)))\n",
    "while step < MAXSTEPS:\n",
    "\n",
    "    step+=1\n",
    "\n",
    "    prediction = net2(x)     # input x and predict based on x\n",
    "    \n",
    "    loss  = loss_func(prediction, f)     # must be (1. nn output, 2. target)\n",
    "    optimizer.zero_grad()   # clear gradients for next train\n",
    "    loss.backward()         # backpropagation, compute gradients\n",
    "    optimizer.step()        # apply gradients\n",
    "    losses.append(loss)"
   ]
  },
  {
   "cell_type": "code",
   "execution_count": null,
   "id": "56118515",
   "metadata": {},
   "outputs": [],
   "source": [
    "def qLR(x,dm):\n",
    "    # this should now be the qLR function \n",
    "    x = torch.reshape(torch.from_numpy(numpy.array([ [xx,dm] for xx in x])).type(torch.double),(len(x),2))\n",
    "    f = net2(x)\n",
    "    z = f/(1-f)\n",
    "    z = z.detach().numpy()\n",
    "    return (-2*sum(numpy.log(z)))[0]\n",
    "\n",
    "print(qLR([5,3,2],0.3))"
   ]
  },
  {
   "cell_type": "code",
   "execution_count": null,
   "id": "67ce8f37",
   "metadata": {},
   "outputs": [],
   "source": [
    "def mc_2G_3(n_events,dmu):\n",
    "    mu_1_H1 = mu_H0+dmu\n",
    "    mu_2_H1 = mu_H0-dmu\n",
    "    \n",
    "    xs = []\n",
    "    for i in range(n_events):\n",
    "        r = numpy.random.uniform(0,1)\n",
    "        if  r > 0.5: xs.append(norm.rvs(mu_2_H1,sigma_H0,size=int(1))[0])\n",
    "        else: xs.append(norm.rvs(mu_1_H1,sigma_H0,size=int(1))[0])\n",
    "    \n",
    "    return numpy.array(xs)"
   ]
  },
  {
   "cell_type": "code",
   "execution_count": null,
   "id": "03da7b7b",
   "metadata": {},
   "outputs": [],
   "source": [
    "# now invent some data \n",
    "data = mc_2G_3(100,1.4)\n",
    "plt.hist(data,20)"
   ]
  },
  {
   "cell_type": "code",
   "execution_count": null,
   "id": "9d32fbba",
   "metadata": {},
   "outputs": [],
   "source": [
    "def mu_1_H1_p(dmu):\n",
    "  return mu_H0+dmu\n",
    "def mu_2_H1_p(dmu):\n",
    "  return mu_H0-dmu"
   ]
  },
  {
   "cell_type": "code",
   "execution_count": null,
   "id": "77d525ce",
   "metadata": {},
   "outputs": [],
   "source": [
    "# now we can do the usual ratio, lets plot it \n",
    "def normalqLR(xx,dm):\n",
    "    z = []\n",
    "    for x in xx: \n",
    "      n = 0.5*(norm.pdf(x,mu_1_H1_p(dm),sigma_H0)+norm.pdf(x,mu_2_H1_p(dm),sigma_H0))\n",
    "      d = norm.pdf(x,mu_H0,sigma_H0)    \n",
    "      z.append(n/d) \n",
    "    return -2*sum(numpy.log(z))"
   ]
  },
  {
   "cell_type": "code",
   "execution_count": null,
   "id": "b50977f9",
   "metadata": {},
   "outputs": [],
   "source": [
    "print(normalqLR(data,0.4))"
   ]
  },
  {
   "cell_type": "code",
   "execution_count": null,
   "id": "fe612a1e",
   "metadata": {},
   "outputs": [],
   "source": [
    "dmrange = numpy.linspace(0.1,3,100)\n",
    "plt.plot(dmrange,[normalqLR(data,dm) for dm in dmrange])\n",
    "plt.plot(dmrange,[qLR(data,dm) for dm in dmrange])"
   ]
  },
  {
   "cell_type": "code",
   "execution_count": null,
   "id": "1c3afc3a",
   "metadata": {},
   "outputs": [],
   "source": []
  }
 ],
 "metadata": {
  "kernelspec": {
   "display_name": "Python 3 (ipykernel)",
   "language": "python",
   "name": "python3"
  },
  "language_info": {
   "codemirror_mode": {
    "name": "ipython",
    "version": 3
   },
   "file_extension": ".py",
   "mimetype": "text/x-python",
   "name": "python",
   "nbconvert_exporter": "python",
   "pygments_lexer": "ipython3",
   "version": "3.7.9"
  }
 },
 "nbformat": 4,
 "nbformat_minor": 5
}
