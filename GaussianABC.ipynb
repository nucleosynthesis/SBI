{
 "cells": [
  {
   "cell_type": "code",
   "execution_count": 1,
   "id": "49b99fb5",
   "metadata": {},
   "outputs": [],
   "source": [
    "%matplotlib inline \n",
    "\n",
    "import matplotlib.pyplot as plt\n",
    "import numpy as np \n",
    "from scipy.stats import norm"
   ]
  },
  {
   "cell_type": "code",
   "execution_count": 2,
   "id": "8024386a",
   "metadata": {},
   "outputs": [],
   "source": [
    "sigma=3.\n",
    "def gen_sample(mu,nevts):\n",
    "    return norm.rvs(mu,sigma,size=nevts)"
   ]
  },
  {
   "cell_type": "code",
   "execution_count": 3,
   "id": "10a135c5",
   "metadata": {},
   "outputs": [],
   "source": [
    "eps=2\n",
    "data = 5.\n",
    "\n",
    "mu_range = np.linspace(-5,15,100)"
   ]
  },
  {
   "cell_type": "code",
   "execution_count": 4,
   "id": "86a8601a",
   "metadata": {},
   "outputs": [],
   "source": [
    "# Assume prior is flat in range -5,15\n",
    "\n",
    "Ngen = 100000\n",
    "accepted = []\n",
    "for i in range(Ngen):\n",
    "    # generate random value of mu \n",
    "    mu_g = np.random.uniform(-5,15)\n",
    "    # generate a random data X from mu_g\n",
    "    x = norm.rvs(mu_g,sigma,size=1)\n",
    "    if abs(x-data)<eps: accepted.append(mu_g)\n"
   ]
  },
  {
   "cell_type": "code",
   "execution_count": 5,
   "id": "c2a77ffd",
   "metadata": {},
   "outputs": [
    {
     "data": {
      "text/plain": [
       "[<matplotlib.lines.Line2D at 0x7fd704a94250>]"
      ]
     },
     "execution_count": 5,
     "metadata": {},
     "output_type": "execute_result"
    },
    {
     "data": {
      "image/png": "[encoded data removed]",
      "text/plain": [
       "<Figure size 432x288 with 1 Axes>"
      ]
     },
     "metadata": {
      "needs_background": "light"
     },
     "output_type": "display_data"
    }
   ],
   "source": [
    "plt.hist(accepted,density=True,bins=30,histtype='step')\n",
    "plt.plot(mu_range,norm.pdf(mu_range,data,sigma))"
   ]
  },
  {
   "cell_type": "markdown",
   "id": "1c8e23d7",
   "metadata": {},
   "source": [
    "how would one also do something in frequentist setting (PLR?) - isn't it  enough to take a log of the posterior that we approximated above? "
   ]
  },
  {
   "cell_type": "code",
   "execution_count": null,
   "id": "e078c47e",
   "metadata": {},
   "outputs": [],
   "source": []
  }
 ],
 "metadata": {
  "kernelspec": {
   "display_name": "Python 3 (ipykernel)",
   "language": "python",
   "name": "python3"
  },
  "language_info": {
   "codemirror_mode": {
    "name": "ipython",
    "version": 3
   },
   "file_extension": ".py",
   "mimetype": "text/x-python",
   "name": "python",
   "nbconvert_exporter": "python",
   "pygments_lexer": "ipython3",
   "version": "3.8.5"
  }
 },
 "nbformat": 4,
 "nbformat_minor": 5
}
